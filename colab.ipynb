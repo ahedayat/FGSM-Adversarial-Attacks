{
  "nbformat": 4,
  "nbformat_minor": 0,
  "metadata": {
    "colab": {
      "provenance": [],
      "collapsed_sections": []
    },
    "kernelspec": {
      "name": "python3",
      "display_name": "Python 3"
    },
    "language_info": {
      "name": "python"
    },
    "accelerator": "GPU",
    "widgets": {
      "application/vnd.jupyter.widget-state+json": {
        "b7c45def034b47ad9d3af499d09b5d46": {
          "model_module": "@jupyter-widgets/controls",
          "model_name": "HBoxModel",
          "model_module_version": "1.5.0",
          "state": {
            "_dom_classes": [],
            "_model_module": "@jupyter-widgets/controls",
            "_model_module_version": "1.5.0",
            "_model_name": "HBoxModel",
            "_view_count": null,
            "_view_module": "@jupyter-widgets/controls",
            "_view_module_version": "1.5.0",
            "_view_name": "HBoxView",
            "box_style": "",
            "children": [
              "IPY_MODEL_023682a57cf94c428e13368874d389dc",
              "IPY_MODEL_dce9cdcfd2d44306aba3190644c5aef0",
              "IPY_MODEL_6b1fbde4b91048bebaac8c970c96fdb0"
            ],
            "layout": "IPY_MODEL_3da007a0c21f474dbcbdf30bd20bff98"
          }
        },
        "023682a57cf94c428e13368874d389dc": {
          "model_module": "@jupyter-widgets/controls",
          "model_name": "HTMLModel",
          "model_module_version": "1.5.0",
          "state": {
            "_dom_classes": [],
            "_model_module": "@jupyter-widgets/controls",
            "_model_module_version": "1.5.0",
            "_model_name": "HTMLModel",
            "_view_count": null,
            "_view_module": "@jupyter-widgets/controls",
            "_view_module_version": "1.5.0",
            "_view_name": "HTMLView",
            "description": "",
            "description_tooltip": null,
            "layout": "IPY_MODEL_b67bb5dc113d4f998e7083e8a7c8cca3",
            "placeholder": "​",
            "style": "IPY_MODEL_3443e2b53a8c4d25923e6e5719d5e034",
            "value": ""
          }
        },
        "dce9cdcfd2d44306aba3190644c5aef0": {
          "model_module": "@jupyter-widgets/controls",
          "model_name": "FloatProgressModel",
          "model_module_version": "1.5.0",
          "state": {
            "_dom_classes": [],
            "_model_module": "@jupyter-widgets/controls",
            "_model_module_version": "1.5.0",
            "_model_name": "FloatProgressModel",
            "_view_count": null,
            "_view_module": "@jupyter-widgets/controls",
            "_view_module_version": "1.5.0",
            "_view_name": "ProgressView",
            "bar_style": "success",
            "description": "",
            "description_tooltip": null,
            "layout": "IPY_MODEL_c83c5ed40dc7457894fb359333b89a48",
            "max": 170498071,
            "min": 0,
            "orientation": "horizontal",
            "style": "IPY_MODEL_d038f6ce8eb04253afafd008e86521b5",
            "value": 170498071
          }
        },
        "6b1fbde4b91048bebaac8c970c96fdb0": {
          "model_module": "@jupyter-widgets/controls",
          "model_name": "HTMLModel",
          "model_module_version": "1.5.0",
          "state": {
            "_dom_classes": [],
            "_model_module": "@jupyter-widgets/controls",
            "_model_module_version": "1.5.0",
            "_model_name": "HTMLModel",
            "_view_count": null,
            "_view_module": "@jupyter-widgets/controls",
            "_view_module_version": "1.5.0",
            "_view_name": "HTMLView",
            "description": "",
            "description_tooltip": null,
            "layout": "IPY_MODEL_9f16c8b19f6f4f348ceb9eee725c318c",
            "placeholder": "​",
            "style": "IPY_MODEL_6d3c42c7ba4c48c3ab9f997194264c8e",
            "value": " 170499072/? [00:05&lt;00:00, 31689503.51it/s]"
          }
        },
        "3da007a0c21f474dbcbdf30bd20bff98": {
          "model_module": "@jupyter-widgets/base",
          "model_name": "LayoutModel",
          "model_module_version": "1.2.0",
          "state": {
            "_model_module": "@jupyter-widgets/base",
            "_model_module_version": "1.2.0",
            "_model_name": "LayoutModel",
            "_view_count": null,
            "_view_module": "@jupyter-widgets/base",
            "_view_module_version": "1.2.0",
            "_view_name": "LayoutView",
            "align_content": null,
            "align_items": null,
            "align_self": null,
            "border": null,
            "bottom": null,
            "display": null,
            "flex": null,
            "flex_flow": null,
            "grid_area": null,
            "grid_auto_columns": null,
            "grid_auto_flow": null,
            "grid_auto_rows": null,
            "grid_column": null,
            "grid_gap": null,
            "grid_row": null,
            "grid_template_areas": null,
            "grid_template_columns": null,
            "grid_template_rows": null,
            "height": null,
            "justify_content": null,
            "justify_items": null,
            "left": null,
            "margin": null,
            "max_height": null,
            "max_width": null,
            "min_height": null,
            "min_width": null,
            "object_fit": null,
            "object_position": null,
            "order": null,
            "overflow": null,
            "overflow_x": null,
            "overflow_y": null,
            "padding": null,
            "right": null,
            "top": null,
            "visibility": null,
            "width": null
          }
        },
        "b67bb5dc113d4f998e7083e8a7c8cca3": {
          "model_module": "@jupyter-widgets/base",
          "model_name": "LayoutModel",
          "model_module_version": "1.2.0",
          "state": {
            "_model_module": "@jupyter-widgets/base",
            "_model_module_version": "1.2.0",
            "_model_name": "LayoutModel",
            "_view_count": null,
            "_view_module": "@jupyter-widgets/base",
            "_view_module_version": "1.2.0",
            "_view_name": "LayoutView",
            "align_content": null,
            "align_items": null,
            "align_self": null,
            "border": null,
            "bottom": null,
            "display": null,
            "flex": null,
            "flex_flow": null,
            "grid_area": null,
            "grid_auto_columns": null,
            "grid_auto_flow": null,
            "grid_auto_rows": null,
            "grid_column": null,
            "grid_gap": null,
            "grid_row": null,
            "grid_template_areas": null,
            "grid_template_columns": null,
            "grid_template_rows": null,
            "height": null,
            "justify_content": null,
            "justify_items": null,
            "left": null,
            "margin": null,
            "max_height": null,
            "max_width": null,
            "min_height": null,
            "min_width": null,
            "object_fit": null,
            "object_position": null,
            "order": null,
            "overflow": null,
            "overflow_x": null,
            "overflow_y": null,
            "padding": null,
            "right": null,
            "top": null,
            "visibility": null,
            "width": null
          }
        },
        "3443e2b53a8c4d25923e6e5719d5e034": {
          "model_module": "@jupyter-widgets/controls",
          "model_name": "DescriptionStyleModel",
          "model_module_version": "1.5.0",
          "state": {
            "_model_module": "@jupyter-widgets/controls",
            "_model_module_version": "1.5.0",
            "_model_name": "DescriptionStyleModel",
            "_view_count": null,
            "_view_module": "@jupyter-widgets/base",
            "_view_module_version": "1.2.0",
            "_view_name": "StyleView",
            "description_width": ""
          }
        },
        "c83c5ed40dc7457894fb359333b89a48": {
          "model_module": "@jupyter-widgets/base",
          "model_name": "LayoutModel",
          "model_module_version": "1.2.0",
          "state": {
            "_model_module": "@jupyter-widgets/base",
            "_model_module_version": "1.2.0",
            "_model_name": "LayoutModel",
            "_view_count": null,
            "_view_module": "@jupyter-widgets/base",
            "_view_module_version": "1.2.0",
            "_view_name": "LayoutView",
            "align_content": null,
            "align_items": null,
            "align_self": null,
            "border": null,
            "bottom": null,
            "display": null,
            "flex": null,
            "flex_flow": null,
            "grid_area": null,
            "grid_auto_columns": null,
            "grid_auto_flow": null,
            "grid_auto_rows": null,
            "grid_column": null,
            "grid_gap": null,
            "grid_row": null,
            "grid_template_areas": null,
            "grid_template_columns": null,
            "grid_template_rows": null,
            "height": null,
            "justify_content": null,
            "justify_items": null,
            "left": null,
            "margin": null,
            "max_height": null,
            "max_width": null,
            "min_height": null,
            "min_width": null,
            "object_fit": null,
            "object_position": null,
            "order": null,
            "overflow": null,
            "overflow_x": null,
            "overflow_y": null,
            "padding": null,
            "right": null,
            "top": null,
            "visibility": null,
            "width": null
          }
        },
        "d038f6ce8eb04253afafd008e86521b5": {
          "model_module": "@jupyter-widgets/controls",
          "model_name": "ProgressStyleModel",
          "model_module_version": "1.5.0",
          "state": {
            "_model_module": "@jupyter-widgets/controls",
            "_model_module_version": "1.5.0",
            "_model_name": "ProgressStyleModel",
            "_view_count": null,
            "_view_module": "@jupyter-widgets/base",
            "_view_module_version": "1.2.0",
            "_view_name": "StyleView",
            "bar_color": null,
            "description_width": ""
          }
        },
        "9f16c8b19f6f4f348ceb9eee725c318c": {
          "model_module": "@jupyter-widgets/base",
          "model_name": "LayoutModel",
          "model_module_version": "1.2.0",
          "state": {
            "_model_module": "@jupyter-widgets/base",
            "_model_module_version": "1.2.0",
            "_model_name": "LayoutModel",
            "_view_count": null,
            "_view_module": "@jupyter-widgets/base",
            "_view_module_version": "1.2.0",
            "_view_name": "LayoutView",
            "align_content": null,
            "align_items": null,
            "align_self": null,
            "border": null,
            "bottom": null,
            "display": null,
            "flex": null,
            "flex_flow": null,
            "grid_area": null,
            "grid_auto_columns": null,
            "grid_auto_flow": null,
            "grid_auto_rows": null,
            "grid_column": null,
            "grid_gap": null,
            "grid_row": null,
            "grid_template_areas": null,
            "grid_template_columns": null,
            "grid_template_rows": null,
            "height": null,
            "justify_content": null,
            "justify_items": null,
            "left": null,
            "margin": null,
            "max_height": null,
            "max_width": null,
            "min_height": null,
            "min_width": null,
            "object_fit": null,
            "object_position": null,
            "order": null,
            "overflow": null,
            "overflow_x": null,
            "overflow_y": null,
            "padding": null,
            "right": null,
            "top": null,
            "visibility": null,
            "width": null
          }
        },
        "6d3c42c7ba4c48c3ab9f997194264c8e": {
          "model_module": "@jupyter-widgets/controls",
          "model_name": "DescriptionStyleModel",
          "model_module_version": "1.5.0",
          "state": {
            "_model_module": "@jupyter-widgets/controls",
            "_model_module_version": "1.5.0",
            "_model_name": "DescriptionStyleModel",
            "_view_count": null,
            "_view_module": "@jupyter-widgets/base",
            "_view_module_version": "1.2.0",
            "_view_name": "StyleView",
            "description_width": ""
          }
        }
      }
    }
  },
  "cells": [
    {
      "cell_type": "code",
      "execution_count": null,
      "metadata": {
        "colab": {
          "base_uri": "https://localhost:8080/"
        },
        "id": "u6hXqXpFpggo",
        "outputId": "249d4d8a-48b6-4364-836e-a02206448710"
      },
      "outputs": [
        {
          "output_type": "stream",
          "name": "stdout",
          "text": [
            "Drive already mounted at /content/drive; to attempt to forcibly remount, call drive.mount(\"/content/drive\", force_remount=True).\n"
          ]
        }
      ],
      "source": [
        "from google.colab import drive\n",
        "drive.mount('/content/drive')"
      ]
    },
    {
      "cell_type": "markdown",
      "source": [
        "# Move data to the local of colab"
      ],
      "metadata": {
        "id": "i5ITOfTepmd-"
      }
    },
    {
      "cell_type": "code",
      "source": [
        "!mkdir \"/content/datasets\""
      ],
      "metadata": {
        "id": "NMI6jRerpjUO"
      },
      "execution_count": null,
      "outputs": []
    },
    {
      "cell_type": "code",
      "source": [
        "import torchvision \n",
        "\n",
        "torchvision.datasets.CIFAR10(root='/content/datasets/cifar10', train=True, download=True)"
      ],
      "metadata": {
        "colab": {
          "base_uri": "https://localhost:8080/",
          "height": 156,
          "referenced_widgets": [
            "b7c45def034b47ad9d3af499d09b5d46",
            "023682a57cf94c428e13368874d389dc",
            "dce9cdcfd2d44306aba3190644c5aef0",
            "6b1fbde4b91048bebaac8c970c96fdb0",
            "3da007a0c21f474dbcbdf30bd20bff98",
            "b67bb5dc113d4f998e7083e8a7c8cca3",
            "3443e2b53a8c4d25923e6e5719d5e034",
            "c83c5ed40dc7457894fb359333b89a48",
            "d038f6ce8eb04253afafd008e86521b5",
            "9f16c8b19f6f4f348ceb9eee725c318c",
            "6d3c42c7ba4c48c3ab9f997194264c8e"
          ]
        },
        "id": "XAK2LSbpqhCU",
        "outputId": "e8067fc3-6317-4743-fee6-77900b339074"
      },
      "execution_count": null,
      "outputs": [
        {
          "output_type": "stream",
          "name": "stdout",
          "text": [
            "Downloading https://www.cs.toronto.edu/~kriz/cifar-10-python.tar.gz to /content/datasets/cifar10/cifar-10-python.tar.gz\n"
          ]
        },
        {
          "output_type": "display_data",
          "data": {
            "text/plain": [
              "  0%|          | 0/170498071 [00:00<?, ?it/s]"
            ],
            "application/vnd.jupyter.widget-view+json": {
              "version_major": 2,
              "version_minor": 0,
              "model_id": "b7c45def034b47ad9d3af499d09b5d46"
            }
          },
          "metadata": {}
        },
        {
          "output_type": "stream",
          "name": "stdout",
          "text": [
            "Extracting /content/datasets/cifar10/cifar-10-python.tar.gz to /content/datasets/cifar10\n"
          ]
        },
        {
          "output_type": "execute_result",
          "data": {
            "text/plain": [
              "Dataset CIFAR10\n",
              "    Number of datapoints: 50000\n",
              "    Root location: /content/datasets/cifar10\n",
              "    Split: Train"
            ]
          },
          "metadata": {},
          "execution_count": 3
        }
      ]
    },
    {
      "cell_type": "code",
      "source": [
        "torchvision.datasets.CIFAR10(root='/content/datasets/cifar10', train=False,download=True)"
      ],
      "metadata": {
        "colab": {
          "base_uri": "https://localhost:8080/"
        },
        "id": "5fHaWa-Qqiqs",
        "outputId": "f001982c-f5b3-4538-d05d-31790d5aff41"
      },
      "execution_count": null,
      "outputs": [
        {
          "output_type": "stream",
          "name": "stdout",
          "text": [
            "Files already downloaded and verified\n"
          ]
        },
        {
          "output_type": "execute_result",
          "data": {
            "text/plain": [
              "Dataset CIFAR10\n",
              "    Number of datapoints: 10000\n",
              "    Root location: /content/datasets/cifar10\n",
              "    Split: Test"
            ]
          },
          "metadata": {},
          "execution_count": 4
        }
      ]
    },
    {
      "cell_type": "markdown",
      "source": [
        "# Training VGG-19 on Cifar-10"
      ],
      "metadata": {
        "id": "sI7dlBFvqnb2"
      }
    },
    {
      "cell_type": "code",
      "source": [
        "%cd \"/content/drive/MyDrive/ADL-P04-02/\"\n",
        "\n",
        "# !bash ./train.sh"
      ],
      "metadata": {
        "colab": {
          "base_uri": "https://localhost:8080/"
        },
        "id": "TdNnVn0gqmjx",
        "outputId": "36840efd-ded8-4198-aea2-5b5c0f4dec53"
      },
      "execution_count": null,
      "outputs": [
        {
          "output_type": "stream",
          "name": "stdout",
          "text": [
            "/content/drive/MyDrive/ADL-P04-02\n",
            "Files already downloaded and verified\n",
            "Files already downloaded and verified\n",
            "Downloading: \"https://download.pytorch.org/models/vgg19_bn-c79401a0.pth\" to /root/.cache/torch/hub/checkpoints/vgg19_bn-c79401a0.pth\n",
            "100% 548M/548M [00:02<00:00, 235MB/s]\n",
            "Files already downloaded and verified\n",
            "Training model without any teacher...\n",
            "Training Classifier @ Epoch 0: 100% 703/703 [00:50<00:00, 13.88it/s, acc1=23.089, acc2=41.785, loss=2.655, lr=1.00000e-03]\n",
            "Evaluation Classifier @ Epoch 0: 100% 78/78 [00:01<00:00, 43.83it/s, acc1=19.792, acc2=40.264, loss=2.021]\n",
            "Training Classifier @ Epoch 1: 100% 703/703 [00:49<00:00, 14.19it/s, acc1=24.931, acc2=47.708, loss=1.876, lr=1.00000e-03]\n",
            "Evaluation Classifier @ Epoch 1: 100% 78/78 [00:01<00:00, 44.03it/s, acc1=29.748, acc2=59.315, loss=1.901]\n",
            "Training Classifier @ Epoch 2: 100% 703/703 [00:49<00:00, 14.16it/s, acc1=35.248, acc2=63.431, loss=1.591, lr=1.00000e-03]\n",
            "Evaluation Classifier @ Epoch 2: 100% 78/78 [00:01<00:00, 44.19it/s, acc1=34.155, acc2=60.797, loss=1.533]\n",
            "Training Classifier @ Epoch 3: 100% 703/703 [00:49<00:00, 14.08it/s, acc1=41.621, acc2=69.730, loss=1.417, lr=1.00000e-03]\n",
            "Evaluation Classifier @ Epoch 3: 100% 78/78 [00:01<00:00, 43.64it/s, acc1=44.391, acc2=71.134, loss=1.373]\n",
            "Training Classifier @ Epoch 4: 100% 703/703 [00:49<00:00, 14.06it/s, acc1=50.656, acc2=75.540, loss=1.269, lr=1.00000e-03]\n",
            "Evaluation Classifier @ Epoch 4: 100% 78/78 [00:01<00:00, 44.46it/s, acc1=49.399, acc2=74.299, loss=1.279]\n",
            "Training Classifier @ Epoch 5: 100% 703/703 [00:50<00:00, 13.96it/s, acc1=65.554, acc2=84.244, loss=0.931, lr=1.00000e-04]\n",
            "Evaluation Classifier @ Epoch 5: 100% 78/78 [00:01<00:00, 43.66it/s, acc1=71.194, acc2=88.081, loss=0.796]\n",
            "Training Classifier @ Epoch 6: 100% 703/703 [00:49<00:00, 14.06it/s, acc1=71.037, acc2=87.522, loss=0.799, lr=1.00000e-04]\n",
            "Evaluation Classifier @ Epoch 6: 100% 78/78 [00:01<00:00, 43.96it/s, acc1=75.721, acc2=89.403, loss=0.699]\n",
            "Training Classifier @ Epoch 7: 100% 703/703 [00:50<00:00, 14.05it/s, acc1=75.640, acc2=89.736, loss=0.696, lr=1.00000e-04]\n",
            "Evaluation Classifier @ Epoch 7: 100% 78/78 [00:01<00:00, 44.81it/s, acc1=76.763, acc2=90.104, loss=0.664]\n",
            "Training Classifier @ Epoch 8: 100% 703/703 [00:50<00:00, 14.03it/s, acc1=79.190, acc2=91.381, loss=0.610, lr=1.00000e-04]\n",
            "Evaluation Classifier @ Epoch 8: 100% 78/78 [00:01<00:00, 45.02it/s, acc1=80.148, acc2=91.126, loss=0.599]\n",
            "Training Classifier @ Epoch 9: 100% 703/703 [00:50<00:00, 14.02it/s, acc1=83.119, acc2=93.319, loss=0.500, lr=1.00000e-05]\n",
            "Evaluation Classifier @ Epoch 9: 100% 78/78 [00:01<00:00, 43.87it/s, acc1=81.430, acc2=91.687, loss=0.554]\n",
            "Training Classifier @ Epoch 10: 100% 703/703 [00:50<00:00, 13.99it/s, acc1=84.435, acc2=93.919, loss=0.467, lr=1.00000e-05]\n",
            "Evaluation Classifier @ Epoch 10: 100% 78/78 [00:01<00:00, 44.19it/s, acc1=81.571, acc2=92.127, loss=0.550]\n",
            "Training Classifier @ Epoch 11: 100% 703/703 [00:49<00:00, 14.08it/s, acc1=85.102, acc2=94.317, loss=0.447, lr=1.00000e-05]\n",
            "Evaluation Classifier @ Epoch 11: 100% 78/78 [00:01<00:00, 44.82it/s, acc1=81.631, acc2=91.907, loss=0.550]\n",
            "Training Classifier @ Epoch 12: 100% 703/703 [00:49<00:00, 14.07it/s, acc1=85.677, acc2=94.468, loss=0.430, lr=1.00000e-05]\n",
            "Evaluation Classifier @ Epoch 12: 100% 78/78 [00:01<00:00, 43.97it/s, acc1=82.111, acc2=91.727, loss=0.544]\n",
            "Training Classifier @ Epoch 13: 100% 703/703 [00:49<00:00, 14.14it/s, acc1=85.991, acc2=94.799, loss=0.418, lr=1.00000e-06]\n",
            "Evaluation Classifier @ Epoch 13: 100% 78/78 [00:01<00:00, 44.59it/s, acc1=82.171, acc2=91.987, loss=0.541]\n",
            "Training Classifier @ Epoch 14: 100% 703/703 [00:49<00:00, 14.10it/s, acc1=86.362, acc2=94.899, loss=0.411, lr=1.00000e-06]\n",
            "Evaluation Classifier @ Epoch 14: 100% 78/78 [00:01<00:00, 45.52it/s, acc1=82.452, acc2=92.127, loss=0.543]\n",
            "Training Classifier @ Epoch 15: 100% 703/703 [00:50<00:00, 14.05it/s, acc1=86.489, acc2=94.999, loss=0.406, lr=1.00000e-06]\n",
            "Evaluation Classifier @ Epoch 15: 100% 78/78 [00:01<00:00, 44.79it/s, acc1=82.352, acc2=92.208, loss=0.544]\n",
            "Training Classifier @ Epoch 16: 100% 703/703 [00:49<00:00, 14.15it/s, acc1=86.382, acc2=94.888, loss=0.408, lr=1.00000e-06]\n",
            "Evaluation Classifier @ Epoch 16: 100% 78/78 [00:01<00:00, 45.73it/s, acc1=82.212, acc2=92.228, loss=0.542]\n",
            "Training Classifier @ Epoch 17: 100% 703/703 [00:49<00:00, 14.12it/s, acc1=86.326, acc2=95.006, loss=0.411, lr=1.00000e-06]\n",
            "Evaluation Classifier @ Epoch 17: 100% 78/78 [00:01<00:00, 45.75it/s, acc1=81.971, acc2=92.388, loss=0.546]\n",
            "Training Classifier @ Epoch 18: 100% 703/703 [00:49<00:00, 14.14it/s, acc1=86.389, acc2=94.937, loss=0.409, lr=1.00000e-06]\n",
            "Evaluation Classifier @ Epoch 18: 100% 78/78 [00:01<00:00, 45.65it/s, acc1=82.412, acc2=92.127, loss=0.541]\n",
            "Training Classifier @ Epoch 19: 100% 703/703 [00:49<00:00, 14.14it/s, acc1=86.500, acc2=94.997, loss=0.404, lr=1.00000e-06]\n",
            "Evaluation Classifier @ Epoch 19: 100% 78/78 [00:01<00:00, 44.91it/s, acc1=82.412, acc2=91.787, loss=0.543]\n",
            "Training Classifier @ Epoch 20: 100% 703/703 [00:50<00:00, 14.04it/s, acc1=86.660, acc2=95.008, loss=0.402, lr=1.00000e-06]\n",
            "Evaluation Classifier @ Epoch 20: 100% 78/78 [00:01<00:00, 44.91it/s, acc1=82.352, acc2=92.047, loss=0.540]\n",
            "Training Classifier @ Epoch 21: 100% 703/703 [00:49<00:00, 14.15it/s, acc1=86.384, acc2=95.015, loss=0.403, lr=1.00000e-06]\n",
            "Evaluation Classifier @ Epoch 21: 100% 78/78 [00:01<00:00, 45.81it/s, acc1=82.332, acc2=91.947, loss=0.539]\n",
            "Training Classifier @ Epoch 22: 100% 703/703 [00:49<00:00, 14.13it/s, acc1=86.638, acc2=95.021, loss=0.401, lr=1.00000e-06]\n",
            "Evaluation Classifier @ Epoch 22: 100% 78/78 [00:01<00:00, 45.73it/s, acc1=82.151, acc2=92.047, loss=0.542]\n",
            "Training Classifier @ Epoch 23: 100% 703/703 [00:49<00:00, 14.16it/s, acc1=86.546, acc2=95.068, loss=0.401, lr=1.00000e-06]\n",
            "Evaluation Classifier @ Epoch 23: 100% 78/78 [00:01<00:00, 45.50it/s, acc1=82.031, acc2=91.887, loss=0.544]\n",
            "Training Classifier @ Epoch 24: 100% 703/703 [00:49<00:00, 14.09it/s, acc1=86.724, acc2=95.155, loss=0.398, lr=1.00000e-06]\n",
            "Evaluation Classifier @ Epoch 24: 100% 78/78 [00:01<00:00, 44.31it/s, acc1=82.292, acc2=91.927, loss=0.542]\n",
            "(Epoch: 24) > Model Saved.\n",
            "Training Classifier @ Epoch 25: 100% 703/703 [00:50<00:00, 13.86it/s, acc1=86.887, acc2=95.235, loss=0.395, lr=1.00000e-06]\n",
            "Evaluation Classifier @ Epoch 25: 100% 78/78 [00:01<00:00, 44.75it/s, acc1=82.392, acc2=92.167, loss=0.540]\n",
            "Training Classifier @ Epoch 26: 100% 703/703 [00:49<00:00, 14.16it/s, acc1=86.884, acc2=95.077, loss=0.396, lr=1.00000e-06]\n",
            "Evaluation Classifier @ Epoch 26: 100% 78/78 [00:01<00:00, 44.59it/s, acc1=82.232, acc2=91.967, loss=0.545]\n",
            "Training Classifier @ Epoch 27: 100% 703/703 [00:49<00:00, 14.13it/s, acc1=86.904, acc2=95.266, loss=0.393, lr=1.00000e-06]\n",
            "Evaluation Classifier @ Epoch 27: 100% 78/78 [00:01<00:00, 45.08it/s, acc1=82.452, acc2=91.827, loss=0.542]\n",
            "Training Classifier @ Epoch 28: 100% 703/703 [00:49<00:00, 14.15it/s, acc1=86.851, acc2=95.226, loss=0.393, lr=1.00000e-06]\n",
            "Evaluation Classifier @ Epoch 28: 100% 78/78 [00:01<00:00, 44.82it/s, acc1=82.312, acc2=92.067, loss=0.542]\n",
            "Training Classifier @ Epoch 29: 100% 703/703 [00:49<00:00, 14.14it/s, acc1=86.860, acc2=95.288, loss=0.391, lr=1.00000e-06]\n",
            "Evaluation Classifier @ Epoch 29: 100% 78/78 [00:01<00:00, 44.76it/s, acc1=82.091, acc2=91.947, loss=0.541]\n",
            "Training Classifier @ Epoch 30: 100% 703/703 [00:50<00:00, 14.00it/s, acc1=86.742, acc2=95.144, loss=0.394, lr=1.00000e-06]\n",
            "Evaluation Classifier @ Epoch 30: 100% 78/78 [00:01<00:00, 44.92it/s, acc1=82.452, acc2=92.007, loss=0.539]\n",
            "Training Classifier @ Epoch 31: 100% 703/703 [00:49<00:00, 14.14it/s, acc1=87.049, acc2=95.175, loss=0.390, lr=1.00000e-06]\n",
            "Evaluation Classifier @ Epoch 31: 100% 78/78 [00:01<00:00, 43.95it/s, acc1=82.652, acc2=92.047, loss=0.540]\n",
            "Training Classifier @ Epoch 32: 100% 703/703 [00:49<00:00, 14.14it/s, acc1=87.091, acc2=95.259, loss=0.383, lr=1.00000e-06]\n",
            "Evaluation Classifier @ Epoch 32: 100% 78/78 [00:01<00:00, 44.54it/s, acc1=82.332, acc2=91.947, loss=0.547]\n",
            "Training Classifier @ Epoch 33: 100% 703/703 [00:49<00:00, 14.14it/s, acc1=87.256, acc2=95.381, loss=0.379, lr=1.00000e-06]\n",
            "Evaluation Classifier @ Epoch 33: 100% 78/78 [00:01<00:00, 45.18it/s, acc1=82.572, acc2=91.947, loss=0.542]\n",
            "Training Classifier @ Epoch 34: 100% 703/703 [00:49<00:00, 14.11it/s, acc1=87.273, acc2=95.368, loss=0.383, lr=1.00000e-06]\n",
            "Evaluation Classifier @ Epoch 34: 100% 78/78 [00:01<00:00, 43.80it/s, acc1=82.292, acc2=92.087, loss=0.545]\n",
            "Training Classifier @ Epoch 35: 100% 703/703 [00:50<00:00, 14.04it/s, acc1=87.382, acc2=95.413, loss=0.381, lr=1.00000e-06]\n",
            "Evaluation Classifier @ Epoch 35: 100% 78/78 [00:01<00:00, 44.41it/s, acc1=82.412, acc2=92.107, loss=0.545]\n",
            "Training Classifier @ Epoch 36: 100% 703/703 [00:49<00:00, 14.16it/s, acc1=87.404, acc2=95.539, loss=0.379, lr=1.00000e-06]\n",
            "Evaluation Classifier @ Epoch 36: 100% 78/78 [00:01<00:00, 45.72it/s, acc1=82.312, acc2=92.127, loss=0.542]\n",
            "Training Classifier @ Epoch 37: 100% 703/703 [00:49<00:00, 14.13it/s, acc1=87.373, acc2=95.448, loss=0.380, lr=1.00000e-06]\n",
            "Evaluation Classifier @ Epoch 37: 100% 78/78 [00:01<00:00, 44.48it/s, acc1=82.272, acc2=91.947, loss=0.541]\n",
            "Training Classifier @ Epoch 38: 100% 703/703 [00:49<00:00, 14.14it/s, acc1=87.611, acc2=95.433, loss=0.375, lr=1.00000e-06]\n",
            "Evaluation Classifier @ Epoch 38: 100% 78/78 [00:01<00:00, 45.39it/s, acc1=82.232, acc2=91.987, loss=0.543]\n",
            "Training Classifier @ Epoch 39: 100% 703/703 [00:49<00:00, 14.12it/s, acc1=87.598, acc2=95.564, loss=0.375, lr=1.00000e-06]\n",
            "Evaluation Classifier @ Epoch 39: 100% 78/78 [00:01<00:00, 44.40it/s, acc1=82.572, acc2=92.228, loss=0.546]\n",
            "Training Classifier @ Epoch 40: 100% 703/703 [00:50<00:00, 13.96it/s, acc1=87.669, acc2=95.555, loss=0.374, lr=1.00000e-06]\n",
            "Evaluation Classifier @ Epoch 40: 100% 78/78 [00:01<00:00, 44.56it/s, acc1=82.452, acc2=91.987, loss=0.542]\n",
            "Training Classifier @ Epoch 41: 100% 703/703 [00:49<00:00, 14.16it/s, acc1=87.542, acc2=95.553, loss=0.373, lr=1.00000e-06]\n",
            "Evaluation Classifier @ Epoch 41: 100% 78/78 [00:01<00:00, 44.51it/s, acc1=82.252, acc2=91.947, loss=0.547]\n",
            "Training Classifier @ Epoch 42: 100% 703/703 [00:49<00:00, 14.12it/s, acc1=87.487, acc2=95.477, loss=0.376, lr=1.00000e-06]\n",
            "Evaluation Classifier @ Epoch 42: 100% 78/78 [00:01<00:00, 44.38it/s, acc1=82.432, acc2=92.007, loss=0.544]\n",
            "Training Classifier @ Epoch 43: 100% 703/703 [00:49<00:00, 14.14it/s, acc1=87.767, acc2=95.610, loss=0.369, lr=1.00000e-06]\n",
            "Evaluation Classifier @ Epoch 43: 100% 78/78 [00:01<00:00, 44.89it/s, acc1=82.572, acc2=92.027, loss=0.537]\n",
            "Training Classifier @ Epoch 44: 100% 703/703 [00:49<00:00, 14.14it/s, acc1=87.680, acc2=95.541, loss=0.372, lr=1.00000e-06]\n",
            "Evaluation Classifier @ Epoch 44: 100% 78/78 [00:01<00:00, 44.49it/s, acc1=82.572, acc2=92.248, loss=0.543]\n",
            "Training Classifier @ Epoch 45: 100% 703/703 [00:50<00:00, 14.03it/s, acc1=87.822, acc2=95.595, loss=0.368, lr=1.00000e-06]\n",
            "Evaluation Classifier @ Epoch 45: 100% 78/78 [00:01<00:00, 45.31it/s, acc1=82.392, acc2=92.127, loss=0.544]\n",
            "Training Classifier @ Epoch 46: 100% 703/703 [00:49<00:00, 14.10it/s, acc1=87.887, acc2=95.641, loss=0.367, lr=1.00000e-06]\n",
            "Evaluation Classifier @ Epoch 46: 100% 78/78 [00:01<00:00, 41.49it/s, acc1=82.712, acc2=92.208, loss=0.545]\n",
            "Training Classifier @ Epoch 47: 100% 703/703 [00:49<00:00, 14.07it/s, acc1=87.991, acc2=95.695, loss=0.363, lr=1.00000e-06]\n",
            "Evaluation Classifier @ Epoch 47: 100% 78/78 [00:01<00:00, 45.16it/s, acc1=82.532, acc2=92.107, loss=0.540]\n",
            "Training Classifier @ Epoch 48: 100% 703/703 [00:49<00:00, 14.12it/s, acc1=87.969, acc2=95.635, loss=0.363, lr=1.00000e-06]\n",
            "Evaluation Classifier @ Epoch 48: 100% 78/78 [00:01<00:00, 44.89it/s, acc1=82.552, acc2=92.067, loss=0.542]\n",
            "Training Classifier @ Epoch 49: 100% 703/703 [00:49<00:00, 14.13it/s, acc1=88.076, acc2=95.721, loss=0.361, lr=1.00000e-06]\n",
            "Evaluation Classifier @ Epoch 49: 100% 78/78 [00:01<00:00, 44.79it/s, acc1=82.472, acc2=92.067, loss=0.545]\n",
            "(Epoch: 49) > Model Saved.\n"
          ]
        }
      ]
    },
    {
      "cell_type": "markdown",
      "source": [
        "# Training VGG-11 on Cifar-10"
      ],
      "metadata": {
        "id": "meE6MT_F4Oj1"
      }
    },
    {
      "cell_type": "code",
      "source": [
        "%cd \"/content/drive/MyDrive/ADL-P04-02/\"\n",
        "\n",
        "!bash ./train.sh"
      ],
      "metadata": {
        "id": "KjbHm6anqkaZ",
        "colab": {
          "base_uri": "https://localhost:8080/"
        },
        "outputId": "ca86f3cd-a56a-4d93-c8cc-306f41428b39"
      },
      "execution_count": null,
      "outputs": [
        {
          "output_type": "stream",
          "name": "stdout",
          "text": [
            "/content/drive/MyDrive/ADL-P04-02\n",
            "Files already downloaded and verified\n",
            "Files already downloaded and verified\n",
            "Files already downloaded and verified\n",
            "Training model without any teacher...\n",
            "Training Classifier @ Epoch 0: 100% 703/703 [00:36<00:00, 19.14it/s, acc1=62.153, acc2=77.643, loss=1.272, lr=1.00000e-03]\n",
            "Evaluation Classifier @ Epoch 0: 100% 78/78 [00:01<00:00, 49.20it/s, acc1=59.275, acc2=77.604, loss=1.682]\n",
            "Training Classifier @ Epoch 1: 100% 703/703 [00:36<00:00, 19.25it/s, acc1=69.592, acc2=82.917, loss=1.007, lr=1.00000e-03]\n",
            "Evaluation Classifier @ Epoch 1: 100% 78/78 [00:01<00:00, 49.45it/s, acc1=70.072, acc2=84.555, loss=0.968]\n",
            "Training Classifier @ Epoch 2: 100% 703/703 [00:36<00:00, 19.24it/s, acc1=73.057, acc2=85.626, loss=0.897, lr=1.00000e-03]\n",
            "Evaluation Classifier @ Epoch 2: 100% 78/78 [00:01<00:00, 48.63it/s, acc1=70.092, acc2=82.732, loss=0.995]\n",
            "Training Classifier @ Epoch 3: 100% 703/703 [00:36<00:00, 19.17it/s, acc1=74.558, acc2=86.515, loss=0.833, lr=1.00000e-03]\n",
            "Evaluation Classifier @ Epoch 3: 100% 78/78 [00:01<00:00, 49.05it/s, acc1=73.458, acc2=84.736, loss=0.847]\n",
            "Training Classifier @ Epoch 4: 100% 703/703 [00:37<00:00, 18.83it/s, acc1=76.056, acc2=87.420, loss=0.796, lr=1.00000e-03]\n",
            "Evaluation Classifier @ Epoch 4: 100% 78/78 [00:01<00:00, 49.76it/s, acc1=71.615, acc2=83.614, loss=0.956]\n",
            "Training Classifier @ Epoch 5: 100% 703/703 [00:36<00:00, 19.09it/s, acc1=83.893, acc2=92.692, loss=0.515, lr=1.00000e-04]\n",
            "Evaluation Classifier @ Epoch 5: 100% 78/78 [00:01<00:00, 48.90it/s, acc1=83.614, acc2=92.949, loss=0.509]\n",
            "Training Classifier @ Epoch 6: 100% 703/703 [00:36<00:00, 19.03it/s, acc1=87.064, acc2=94.559, loss=0.411, lr=1.00000e-04]\n",
            "Evaluation Classifier @ Epoch 6: 100% 78/78 [00:01<00:00, 48.80it/s, acc1=83.894, acc2=92.708, loss=0.496]\n",
            "Training Classifier @ Epoch 7: 100% 703/703 [00:36<00:00, 19.02it/s, acc1=88.936, acc2=95.564, loss=0.351, lr=1.00000e-04]\n",
            "Evaluation Classifier @ Epoch 7: 100% 78/78 [00:01<00:00, 48.92it/s, acc1=84.716, acc2=93.450, loss=0.485]\n",
            "Training Classifier @ Epoch 8: 100% 703/703 [00:36<00:00, 19.03it/s, acc1=90.987, acc2=96.464, loss=0.294, lr=1.00000e-04]\n",
            "Evaluation Classifier @ Epoch 8: 100% 78/78 [00:01<00:00, 49.90it/s, acc1=84.375, acc2=92.949, loss=0.509]\n",
            "Training Classifier @ Epoch 9: 100% 703/703 [00:36<00:00, 19.13it/s, acc1=93.670, acc2=97.662, loss=0.209, lr=1.00000e-05]\n",
            "Evaluation Classifier @ Epoch 9: 100% 78/78 [00:01<00:00, 49.30it/s, acc1=84.996, acc2=93.329, loss=0.504]\n",
            "Training Classifier @ Epoch 10: 100% 703/703 [00:37<00:00, 18.77it/s, acc1=94.392, acc2=97.862, loss=0.189, lr=1.00000e-05]\n",
            "Evaluation Classifier @ Epoch 10: 100% 78/78 [00:01<00:00, 48.89it/s, acc1=85.397, acc2=93.329, loss=0.500]\n",
            "Training Classifier @ Epoch 11: 100% 703/703 [00:36<00:00, 19.10it/s, acc1=94.717, acc2=98.006, loss=0.176, lr=1.00000e-05]\n",
            "Evaluation Classifier @ Epoch 11: 100% 78/78 [00:01<00:00, 50.19it/s, acc1=85.116, acc2=93.229, loss=0.515]\n",
            "Training Classifier @ Epoch 12: 100% 703/703 [00:36<00:00, 19.12it/s, acc1=95.101, acc2=98.162, loss=0.165, lr=1.00000e-05]\n",
            "Evaluation Classifier @ Epoch 12: 100% 78/78 [00:01<00:00, 48.92it/s, acc1=85.096, acc2=93.349, loss=0.531]\n",
            "Training Classifier @ Epoch 13: 100% 703/703 [00:36<00:00, 19.22it/s, acc1=95.599, acc2=98.362, loss=0.149, lr=1.00000e-06]\n",
            "Evaluation Classifier @ Epoch 13: 100% 78/78 [00:01<00:00, 49.26it/s, acc1=85.056, acc2=93.209, loss=0.535]\n",
            "Training Classifier @ Epoch 14: 100% 703/703 [00:36<00:00, 19.15it/s, acc1=95.648, acc2=98.342, loss=0.149, lr=1.00000e-06]\n",
            "Evaluation Classifier @ Epoch 14: 100% 78/78 [00:01<00:00, 48.78it/s, acc1=85.236, acc2=93.209, loss=0.533]\n",
            "Training Classifier @ Epoch 15: 100% 703/703 [00:36<00:00, 19.20it/s, acc1=95.646, acc2=98.349, loss=0.149, lr=1.00000e-06]\n",
            "Evaluation Classifier @ Epoch 15: 100% 78/78 [00:01<00:00, 49.25it/s, acc1=85.016, acc2=93.249, loss=0.535]\n",
            "Training Classifier @ Epoch 16: 100% 703/703 [00:36<00:00, 19.01it/s, acc1=95.906, acc2=98.440, loss=0.145, lr=1.00000e-06]\n",
            "Evaluation Classifier @ Epoch 16: 100% 78/78 [00:01<00:00, 48.82it/s, acc1=85.196, acc2=93.389, loss=0.536]\n",
            "Training Classifier @ Epoch 17: 100% 703/703 [00:36<00:00, 19.22it/s, acc1=95.804, acc2=98.466, loss=0.145, lr=1.00000e-07]\n",
            "Evaluation Classifier @ Epoch 17: 100% 78/78 [00:01<00:00, 50.51it/s, acc1=85.377, acc2=93.269, loss=0.528]\n",
            "Training Classifier @ Epoch 18: 100% 703/703 [00:36<00:00, 19.24it/s, acc1=95.928, acc2=98.424, loss=0.144, lr=1.00000e-07]\n",
            "Evaluation Classifier @ Epoch 18: 100% 78/78 [00:01<00:00, 49.13it/s, acc1=85.276, acc2=93.109, loss=0.536]\n",
            "Training Classifier @ Epoch 19: 100% 703/703 [00:36<00:00, 19.19it/s, acc1=95.886, acc2=98.417, loss=0.142, lr=1.00000e-07]\n",
            "Evaluation Classifier @ Epoch 19: 100% 78/78 [00:01<00:00, 49.18it/s, acc1=85.036, acc2=93.109, loss=0.542]\n",
            "Training Classifier @ Epoch 20: 100% 703/703 [00:36<00:00, 19.22it/s, acc1=95.924, acc2=98.440, loss=0.141, lr=1.00000e-07]\n",
            "Evaluation Classifier @ Epoch 20: 100% 78/78 [00:01<00:00, 49.97it/s, acc1=85.176, acc2=93.249, loss=0.533]\n",
            "Training Classifier @ Epoch 21: 100% 703/703 [00:36<00:00, 19.26it/s, acc1=95.973, acc2=98.411, loss=0.141, lr=1.00000e-08]\n",
            "Evaluation Classifier @ Epoch 21: 100% 78/78 [00:01<00:00, 49.46it/s, acc1=85.076, acc2=93.229, loss=0.533]\n",
            "Training Classifier @ Epoch 22: 100% 703/703 [00:36<00:00, 19.06it/s, acc1=95.773, acc2=98.400, loss=0.146, lr=1.00000e-08]\n",
            "Evaluation Classifier @ Epoch 22: 100% 78/78 [00:01<00:00, 47.93it/s, acc1=84.916, acc2=93.089, loss=0.537]\n",
            "Training Classifier @ Epoch 23: 100% 703/703 [00:36<00:00, 19.23it/s, acc1=95.781, acc2=98.442, loss=0.144, lr=1.00000e-08]\n",
            "Evaluation Classifier @ Epoch 23: 100% 78/78 [00:01<00:00, 49.74it/s, acc1=85.236, acc2=93.329, loss=0.528]\n",
            "Training Classifier @ Epoch 24: 100% 703/703 [00:36<00:00, 19.23it/s, acc1=95.977, acc2=98.440, loss=0.143, lr=1.00000e-08]\n",
            "Evaluation Classifier @ Epoch 24: 100% 78/78 [00:01<00:00, 48.42it/s, acc1=85.196, acc2=93.249, loss=0.536]\n",
            "(Epoch: 24) > Model Saved.\n",
            "Training Classifier @ Epoch 25: 100% 703/703 [00:37<00:00, 18.84it/s, acc1=95.837, acc2=98.429, loss=0.146, lr=1.00000e-08]\n",
            "Evaluation Classifier @ Epoch 25: 100% 78/78 [00:01<00:00, 41.13it/s, acc1=85.196, acc2=93.129, loss=0.540]\n",
            "Training Classifier @ Epoch 26: 100% 703/703 [00:36<00:00, 19.19it/s, acc1=95.919, acc2=98.453, loss=0.141, lr=1.00000e-08]\n",
            "Evaluation Classifier @ Epoch 26: 100% 78/78 [00:01<00:00, 48.93it/s, acc1=85.317, acc2=93.209, loss=0.535]\n",
            "Training Classifier @ Epoch 27: 100% 703/703 [00:36<00:00, 19.22it/s, acc1=95.813, acc2=98.360, loss=0.145, lr=1.00000e-08]\n",
            "Evaluation Classifier @ Epoch 27: 100% 78/78 [00:01<00:00, 48.02it/s, acc1=84.896, acc2=93.049, loss=0.534]\n",
            "Training Classifier @ Epoch 28: 100% 703/703 [00:37<00:00, 18.99it/s, acc1=95.835, acc2=98.440, loss=0.143, lr=1.00000e-08]\n",
            "Evaluation Classifier @ Epoch 28: 100% 78/78 [00:01<00:00, 48.17it/s, acc1=85.317, acc2=93.289, loss=0.541]\n",
            "Training Classifier @ Epoch 29: 100% 703/703 [00:36<00:00, 19.20it/s, acc1=95.846, acc2=98.433, loss=0.143, lr=1.00000e-08]\n",
            "Evaluation Classifier @ Epoch 29: 100% 78/78 [00:01<00:00, 48.64it/s, acc1=85.196, acc2=93.169, loss=0.534]\n",
            "Training Classifier @ Epoch 30: 100% 703/703 [00:36<00:00, 19.18it/s, acc1=95.833, acc2=98.455, loss=0.143, lr=1.00000e-08]\n",
            "Evaluation Classifier @ Epoch 30: 100% 78/78 [00:01<00:00, 48.49it/s, acc1=85.196, acc2=93.169, loss=0.531]\n",
            "Training Classifier @ Epoch 31: 100% 703/703 [00:36<00:00, 19.20it/s, acc1=95.873, acc2=98.462, loss=0.142, lr=1.00000e-08]\n",
            "Evaluation Classifier @ Epoch 31: 100% 78/78 [00:01<00:00, 48.89it/s, acc1=85.317, acc2=93.069, loss=0.538]\n",
            "Training Classifier @ Epoch 32: 100% 703/703 [00:36<00:00, 19.23it/s, acc1=95.799, acc2=98.442, loss=0.144, lr=1.00000e-08]\n",
            "Evaluation Classifier @ Epoch 32: 100% 78/78 [00:01<00:00, 47.46it/s, acc1=85.196, acc2=93.169, loss=0.537]\n",
            "Training Classifier @ Epoch 33: 100% 703/703 [00:36<00:00, 19.23it/s, acc1=95.873, acc2=98.440, loss=0.144, lr=1.00000e-08]\n",
            "Evaluation Classifier @ Epoch 33: 100% 78/78 [00:01<00:00, 47.81it/s, acc1=85.156, acc2=93.029, loss=0.538]\n",
            "Training Classifier @ Epoch 34: 100% 703/703 [00:36<00:00, 19.02it/s, acc1=95.779, acc2=98.429, loss=0.144, lr=1.00000e-08]\n",
            "Evaluation Classifier @ Epoch 34: 100% 78/78 [00:01<00:00, 47.27it/s, acc1=85.096, acc2=93.269, loss=0.537]\n",
            "Training Classifier @ Epoch 35: 100% 703/703 [00:36<00:00, 19.15it/s, acc1=95.764, acc2=98.342, loss=0.145, lr=1.00000e-08]\n",
            "Evaluation Classifier @ Epoch 35: 100% 78/78 [00:01<00:00, 48.23it/s, acc1=85.076, acc2=92.969, loss=0.540]\n",
            "Training Classifier @ Epoch 36: 100% 703/703 [00:36<00:00, 19.21it/s, acc1=95.826, acc2=98.431, loss=0.144, lr=1.00000e-08]\n",
            "Evaluation Classifier @ Epoch 36: 100% 78/78 [00:01<00:00, 48.29it/s, acc1=85.176, acc2=93.289, loss=0.537]\n",
            "Training Classifier @ Epoch 37: 100% 703/703 [00:36<00:00, 19.21it/s, acc1=95.817, acc2=98.413, loss=0.143, lr=1.00000e-08]\n",
            "Evaluation Classifier @ Epoch 37: 100% 78/78 [00:01<00:00, 47.85it/s, acc1=85.156, acc2=93.109, loss=0.529]\n",
            "Training Classifier @ Epoch 38: 100% 703/703 [00:36<00:00, 19.24it/s, acc1=95.850, acc2=98.420, loss=0.143, lr=1.00000e-08]\n",
            "Evaluation Classifier @ Epoch 38: 100% 78/78 [00:01<00:00, 48.27it/s, acc1=85.096, acc2=93.169, loss=0.535]\n",
            "Training Classifier @ Epoch 39: 100% 703/703 [00:36<00:00, 19.21it/s, acc1=95.861, acc2=98.449, loss=0.143, lr=1.00000e-08]\n",
            "Evaluation Classifier @ Epoch 39: 100% 78/78 [00:01<00:00, 48.50it/s, acc1=85.256, acc2=93.209, loss=0.535]\n",
            "Training Classifier @ Epoch 40: 100% 703/703 [00:36<00:00, 19.21it/s, acc1=95.868, acc2=98.444, loss=0.143, lr=1.00000e-08]\n",
            "Evaluation Classifier @ Epoch 40: 100% 78/78 [00:01<00:00, 49.20it/s, acc1=85.196, acc2=93.189, loss=0.537]\n",
            "Training Classifier @ Epoch 41: 100% 703/703 [00:36<00:00, 19.04it/s, acc1=95.919, acc2=98.493, loss=0.144, lr=1.00000e-08]\n",
            "Evaluation Classifier @ Epoch 41: 100% 78/78 [00:01<00:00, 48.48it/s, acc1=84.956, acc2=93.149, loss=0.540]\n",
            "Training Classifier @ Epoch 42: 100% 703/703 [00:36<00:00, 19.18it/s, acc1=95.910, acc2=98.438, loss=0.142, lr=1.00000e-08]\n",
            "Evaluation Classifier @ Epoch 42: 100% 78/78 [00:01<00:00, 48.67it/s, acc1=85.156, acc2=93.169, loss=0.535]\n",
            "Training Classifier @ Epoch 43: 100% 703/703 [00:36<00:00, 19.22it/s, acc1=95.906, acc2=98.413, loss=0.143, lr=1.00000e-08]\n",
            "Evaluation Classifier @ Epoch 43: 100% 78/78 [00:01<00:00, 48.21it/s, acc1=85.337, acc2=93.289, loss=0.528]\n",
            "Training Classifier @ Epoch 44: 100% 703/703 [00:36<00:00, 19.19it/s, acc1=95.770, acc2=98.404, loss=0.144, lr=1.00000e-08]\n",
            "Evaluation Classifier @ Epoch 44: 100% 78/78 [00:01<00:00, 48.54it/s, acc1=85.076, acc2=92.989, loss=0.542]\n",
            "Training Classifier @ Epoch 45: 100% 703/703 [00:36<00:00, 19.23it/s, acc1=95.879, acc2=98.409, loss=0.144, lr=1.00000e-08]\n",
            "Evaluation Classifier @ Epoch 45: 100% 78/78 [00:01<00:00, 48.47it/s, acc1=85.256, acc2=93.349, loss=0.530]\n",
            "Training Classifier @ Epoch 46: 100% 703/703 [00:36<00:00, 19.20it/s, acc1=95.890, acc2=98.438, loss=0.144, lr=1.00000e-08]\n",
            "Evaluation Classifier @ Epoch 46: 100% 78/78 [00:01<00:00, 48.62it/s, acc1=84.996, acc2=93.169, loss=0.546]\n",
            "Training Classifier @ Epoch 47: 100% 703/703 [00:37<00:00, 18.99it/s, acc1=95.853, acc2=98.424, loss=0.142, lr=1.00000e-08]\n",
            "Evaluation Classifier @ Epoch 47: 100% 78/78 [00:01<00:00, 48.29it/s, acc1=85.076, acc2=93.069, loss=0.537]\n",
            "Training Classifier @ Epoch 48: 100% 703/703 [00:36<00:00, 19.19it/s, acc1=95.786, acc2=98.346, loss=0.145, lr=1.00000e-08]\n",
            "Evaluation Classifier @ Epoch 48: 100% 78/78 [00:01<00:00, 48.23it/s, acc1=85.256, acc2=93.249, loss=0.534]\n",
            "Training Classifier @ Epoch 49: 100% 703/703 [00:36<00:00, 19.24it/s, acc1=95.815, acc2=98.415, loss=0.145, lr=1.00000e-08]\n",
            "Evaluation Classifier @ Epoch 49: 100% 78/78 [00:01<00:00, 48.43it/s, acc1=85.016, acc2=93.069, loss=0.535]\n",
            "(Epoch: 49) > Model Saved.\n"
          ]
        }
      ]
    },
    {
      "cell_type": "markdown",
      "source": [
        "# Predict Label with VGG-19"
      ],
      "metadata": {
        "id": "-MnpskI8gb9u"
      }
    },
    {
      "cell_type": "code",
      "source": [
        "%cd \"/content/drive/MyDrive/ADL-P04-02/\"\n",
        "\n",
        "!bash ./predict.sh"
      ],
      "metadata": {
        "colab": {
          "base_uri": "https://localhost:8080/"
        },
        "id": "zln3RTQIggW9",
        "outputId": "576ddea9-26ee-4b49-c3c9-3c9ec0f359a8"
      },
      "execution_count": null,
      "outputs": [
        {
          "output_type": "stream",
          "name": "stdout",
          "text": [
            "/content/drive/MyDrive/ADL-P04-02\n",
            "Files already downloaded and verified\n",
            "Files already downloaded and verified\n",
            "**** Loading Model...\n",
            "**** Model is loaded successfully ****\n"
          ]
        }
      ]
    },
    {
      "cell_type": "markdown",
      "source": [
        "# FGSM Attack to VGG-19"
      ],
      "metadata": {
        "id": "OOsJFtkFaf7W"
      }
    },
    {
      "cell_type": "code",
      "source": [
        "%cd \"/content/drive/MyDrive/ADL-P04-02/\"\n",
        "\n",
        "!bash ./attack.sh"
      ],
      "metadata": {
        "id": "Qy__QvgK5OfX",
        "colab": {
          "base_uri": "https://localhost:8080/"
        },
        "outputId": "403a9bdd-2091-489f-efb1-8a807b3c7480"
      },
      "execution_count": null,
      "outputs": [
        {
          "output_type": "stream",
          "name": "stdout",
          "text": [
            "/content/drive/MyDrive/ADL-P04-02\n",
            "Files already downloaded and verified\n",
            "Files already downloaded and verified\n",
            "**** Loading Model...\n",
            "**** Model is loaded successfully ****\n",
            "Evaluation Classifier: 100% 156/156 [00:03<00:00, 44.00it/s, acc1=81.130, acc2=91.236, loss=0.594]\n"
          ]
        }
      ]
    },
    {
      "cell_type": "markdown",
      "source": [
        "# FGSM Attack Testing on VGG-19"
      ],
      "metadata": {
        "id": "24J4_UlI9fUu"
      }
    },
    {
      "cell_type": "code",
      "source": [
        "%cd \"/content/drive/MyDrive/ADL-P04-02/\"\n",
        "\n",
        "!bash ./attack.sh"
      ],
      "metadata": {
        "colab": {
          "base_uri": "https://localhost:8080/"
        },
        "id": "U96GgCgJ9jR7",
        "outputId": "e5679925-b970-417f-c4a3-74321ead4786"
      },
      "execution_count": null,
      "outputs": [
        {
          "output_type": "stream",
          "name": "stdout",
          "text": [
            "/content/drive/MyDrive/ADL-P04-02\n",
            "Files already downloaded and verified\n",
            "Files already downloaded and verified\n",
            "**** Loading Model...\n",
            "**** Model is loaded successfully ****\n",
            "Evaluation Classifier: 100% 156/156 [00:03<00:00, 43.93it/s, acc1=81.130, acc2=91.236, loss=0.594]\n",
            "+-------------------------+\n",
            "train + Epsilon = 0.0\n",
            "+-------------------------+\n",
            "Iterative FGSM ( epsilone = 0.00000e+00 ): 100% 50000/50000 [05:29<00:00, 151.68it/s, acc=0.902]\n",
            "Accuracy: 0.902\n",
            "+-------------------------+\n",
            "test + Epsilon = 0.0\n",
            "+-------------------------+\n",
            "Iterative FGSM ( epsilone = 0.00000e+00 ): 100% 10000/10000 [01:03<00:00, 156.49it/s, acc=0.811]\n",
            "Accuracy: 0.811\n",
            "+-------------------------+\n",
            "train + Epsilon = 0.05\n",
            "+-------------------------+\n",
            "Iterative FGSM ( epsilone = 5.00000e-02 ): 100% 50000/50000 [15:55<00:00, 52.31it/s, acc=0.238]\n",
            "Accuracy: 0.238\n",
            "+-------------------------+\n",
            "test + Epsilon = 0.05\n",
            "+-------------------------+\n",
            "Iterative FGSM ( epsilone = 5.00000e-02 ): 100% 10000/10000 [02:59<00:00, 55.74it/s, acc=0.217]\n",
            "Accuracy: 0.217\n",
            "+-------------------------+\n",
            "train + Epsilon = 0.1\n",
            "+-------------------------+\n",
            "Iterative FGSM ( epsilone = 1.00000e-01 ): 100% 50000/50000 [15:49<00:00, 52.66it/s, acc=0.175]\n",
            "Accuracy: 0.175\n",
            "+-------------------------+\n",
            "test + Epsilon = 0.1\n",
            "+-------------------------+\n",
            "Iterative FGSM ( epsilone = 1.00000e-01 ): 100% 10000/10000 [03:00<00:00, 55.51it/s, acc=0.160]\n",
            "Accuracy: 0.160\n",
            "+-------------------------+\n",
            "train + Epsilon = 0.15000000000000002\n",
            "+-------------------------+\n",
            "Iterative FGSM ( epsilone = 1.50000e-01 ): 100% 50000/50000 [15:51<00:00, 52.57it/s, acc=0.147]\n",
            "Accuracy: 0.147\n",
            "+-------------------------+\n",
            "test + Epsilon = 0.15000000000000002\n",
            "+-------------------------+\n",
            "Iterative FGSM ( epsilone = 1.50000e-01 ): 100% 10000/10000 [02:59<00:00, 55.71it/s, acc=0.134]\n",
            "Accuracy: 0.134\n",
            "+-------------------------+\n",
            "train + Epsilon = 0.2\n",
            "+-------------------------+\n",
            "Iterative FGSM ( epsilone = 2.00000e-01 ): 100% 50000/50000 [15:50<00:00, 52.63it/s, acc=0.133]\n",
            "Accuracy: 0.133\n",
            "+-------------------------+\n",
            "test + Epsilon = 0.2\n",
            "+-------------------------+\n",
            "Iterative FGSM ( epsilone = 2.00000e-01 ): 100% 10000/10000 [02:59<00:00, 55.73it/s, acc=0.119]\n",
            "Accuracy: 0.119\n"
          ]
        }
      ]
    },
    {
      "cell_type": "markdown",
      "source": [
        "# Knowledge Distilation"
      ],
      "metadata": {
        "id": "N3CKbkqW7d1t"
      }
    },
    {
      "cell_type": "code",
      "source": [
        "%cd \"/content/drive/MyDrive/ADL-P04-02/\"\n",
        "\n",
        "!bash ./train.sh"
      ],
      "metadata": {
        "id": "jzPQf4n37dBk",
        "colab": {
          "base_uri": "https://localhost:8080/"
        },
        "outputId": "be1fe424-3491-4230-cc78-82ee5c845a28"
      },
      "execution_count": null,
      "outputs": [
        {
          "output_type": "stream",
          "name": "stdout",
          "text": [
            "/content/drive/MyDrive/ADL-P04-02\n",
            "Files already downloaded and verified\n",
            "Files already downloaded and verified\n",
            "args.ckpt_load_path:  ./pretrained_models/pretrainedvgg11_none_final.ckpt\n",
            "**** Loading Model...\n",
            "**** Loading Teacher Model...\n",
            "Files already downloaded and verified\n",
            "Trainingn model with knowledge distilation...\n",
            "Training Classifier @ Epoch 0: 100% 703/703 [00:48<00:00, 14.53it/s, acc1=94.728, acc2=97.911, loss=7.375, lr=1.00000e-08]\n",
            "Evaluation Classifier @ Epoch 0: 100% 78/78 [00:02<00:00, 32.57it/s, acc1=95.933, acc2=98.317, loss=6.484]\n",
            "Training Classifier @ Epoch 1: 100% 703/703 [00:47<00:00, 14.83it/s, acc1=94.566, acc2=97.720, loss=7.346, lr=1.00000e-08]\n",
            "Evaluation Classifier @ Epoch 1: 100% 78/78 [00:02<00:00, 32.71it/s, acc1=95.893, acc2=98.257, loss=6.423]\n",
            "Training Classifier @ Epoch 2: 100% 703/703 [00:47<00:00, 14.80it/s, acc1=94.579, acc2=97.826, loss=7.319, lr=1.00000e-08]\n",
            "Evaluation Classifier @ Epoch 2: 100% 78/78 [00:02<00:00, 32.51it/s, acc1=95.773, acc2=98.357, loss=6.384]\n",
            "Training Classifier @ Epoch 3: 100% 703/703 [00:47<00:00, 14.83it/s, acc1=94.619, acc2=97.797, loss=7.298, lr=1.00000e-08]\n",
            "Evaluation Classifier @ Epoch 3: 100% 78/78 [00:02<00:00, 32.94it/s, acc1=95.933, acc2=98.297, loss=6.362]\n",
            "Training Classifier @ Epoch 4: 100% 703/703 [00:47<00:00, 14.86it/s, acc1=94.657, acc2=97.853, loss=7.250, lr=1.00000e-08]\n",
            "Evaluation Classifier @ Epoch 4: 100% 78/78 [00:02<00:00, 32.66it/s, acc1=95.833, acc2=98.217, loss=6.309]\n",
            "Training Classifier @ Epoch 5: 100% 703/703 [00:47<00:00, 14.81it/s, acc1=94.637, acc2=97.755, loss=7.208, lr=1.00000e-08]\n",
            "Evaluation Classifier @ Epoch 5: 100% 78/78 [00:02<00:00, 32.42it/s, acc1=95.813, acc2=98.237, loss=6.263]\n",
            "Training Classifier @ Epoch 6: 100% 703/703 [00:47<00:00, 14.68it/s, acc1=94.619, acc2=97.824, loss=7.174, lr=1.00000e-08]\n",
            "Evaluation Classifier @ Epoch 6: 100% 78/78 [00:02<00:00, 32.39it/s, acc1=96.014, acc2=98.277, loss=6.226]\n",
            "Training Classifier @ Epoch 7: 100% 703/703 [00:47<00:00, 14.83it/s, acc1=94.739, acc2=97.833, loss=7.140, lr=1.00000e-08]\n",
            "Evaluation Classifier @ Epoch 7: 100% 78/78 [00:02<00:00, 32.61it/s, acc1=95.933, acc2=98.357, loss=6.213]\n",
            "Training Classifier @ Epoch 8: 100% 703/703 [00:47<00:00, 14.83it/s, acc1=94.666, acc2=97.817, loss=7.094, lr=1.00000e-08]\n",
            "Evaluation Classifier @ Epoch 8: 100% 78/78 [00:02<00:00, 32.44it/s, acc1=95.913, acc2=98.297, loss=6.196]\n",
            "Training Classifier @ Epoch 9: 100% 703/703 [00:47<00:00, 14.80it/s, acc1=94.537, acc2=97.797, loss=7.069, lr=1.00000e-08]\n",
            "Evaluation Classifier @ Epoch 9: 100% 78/78 [00:02<00:00, 32.51it/s, acc1=95.933, acc2=98.257, loss=6.173]\n",
            "Training Classifier @ Epoch 10: 100% 703/703 [00:47<00:00, 14.79it/s, acc1=94.697, acc2=97.791, loss=7.041, lr=1.00000e-08]\n",
            "Evaluation Classifier @ Epoch 10: 100% 78/78 [00:02<00:00, 32.99it/s, acc1=95.954, acc2=98.297, loss=6.142]\n",
            "Training Classifier @ Epoch 11: 100% 703/703 [00:47<00:00, 14.83it/s, acc1=94.635, acc2=97.822, loss=7.012, lr=1.00000e-08]\n",
            "Evaluation Classifier @ Epoch 11: 100% 78/78 [00:02<00:00, 32.77it/s, acc1=95.833, acc2=98.297, loss=6.076]\n",
            "Training Classifier @ Epoch 12: 100% 703/703 [00:47<00:00, 14.79it/s, acc1=94.592, acc2=97.777, loss=6.984, lr=1.00000e-08]\n",
            "Evaluation Classifier @ Epoch 12: 100% 78/78 [00:02<00:00, 32.48it/s, acc1=95.974, acc2=98.257, loss=6.064]\n",
            "Training Classifier @ Epoch 13: 100% 703/703 [00:47<00:00, 14.71it/s, acc1=94.744, acc2=97.853, loss=6.943, lr=1.00000e-08]\n",
            "Evaluation Classifier @ Epoch 13: 100% 78/78 [00:02<00:00, 32.64it/s, acc1=95.994, acc2=98.297, loss=6.005]\n",
            "Training Classifier @ Epoch 14: 100% 703/703 [00:47<00:00, 14.82it/s, acc1=94.577, acc2=97.871, loss=6.931, lr=1.00000e-08]\n",
            "Evaluation Classifier @ Epoch 14: 100% 78/78 [00:02<00:00, 32.64it/s, acc1=95.893, acc2=98.277, loss=5.970]\n",
            "Training Classifier @ Epoch 15: 100% 703/703 [00:47<00:00, 14.84it/s, acc1=94.559, acc2=97.866, loss=6.880, lr=1.00000e-08]\n",
            "Evaluation Classifier @ Epoch 15: 100% 78/78 [00:02<00:00, 32.57it/s, acc1=95.913, acc2=98.257, loss=5.921]\n",
            "Training Classifier @ Epoch 16: 100% 703/703 [00:47<00:00, 14.77it/s, acc1=94.537, acc2=97.826, loss=6.859, lr=1.00000e-08]\n",
            "Evaluation Classifier @ Epoch 16: 100% 78/78 [00:02<00:00, 32.69it/s, acc1=95.933, acc2=98.317, loss=5.946]\n",
            "Training Classifier @ Epoch 17: 100% 703/703 [00:47<00:00, 14.81it/s, acc1=94.555, acc2=97.735, loss=6.821, lr=1.00000e-08]\n",
            "Evaluation Classifier @ Epoch 17: 100% 78/78 [00:02<00:00, 32.86it/s, acc1=95.793, acc2=98.257, loss=5.864]\n",
            "Training Classifier @ Epoch 18: 100% 703/703 [00:47<00:00, 14.78it/s, acc1=94.590, acc2=97.793, loss=6.788, lr=1.00000e-08]\n",
            "Evaluation Classifier @ Epoch 18: 100% 78/78 [00:02<00:00, 32.68it/s, acc1=95.913, acc2=98.357, loss=5.835]\n",
            "Training Classifier @ Epoch 19: 100% 703/703 [00:47<00:00, 14.76it/s, acc1=94.655, acc2=97.849, loss=6.757, lr=1.00000e-08]\n",
            "Evaluation Classifier @ Epoch 19: 100% 78/78 [00:02<00:00, 32.62it/s, acc1=95.793, acc2=98.337, loss=5.843]\n"
          ]
        }
      ]
    },
    {
      "cell_type": "markdown",
      "source": [
        "# FGSM Attack Testing on VGG-11"
      ],
      "metadata": {
        "id": "kGxqyhNRcCnr"
      }
    },
    {
      "cell_type": "code",
      "source": [
        "%cd \"/content/drive/MyDrive/ADL-P04-02/\"\n",
        "\n",
        "!bash ./attack.sh"
      ],
      "metadata": {
        "colab": {
          "base_uri": "https://localhost:8080/"
        },
        "id": "L7afhYoKcFL7",
        "outputId": "5675be29-c80d-48d0-f78d-ff89a3091c67"
      },
      "execution_count": null,
      "outputs": [
        {
          "output_type": "stream",
          "name": "stdout",
          "text": [
            "/content/drive/MyDrive/ADL-P04-02\n",
            "Files already downloaded and verified\n",
            "Files already downloaded and verified\n",
            "**** Loading Model...\n",
            "**** Model is loaded successfully ****\n",
            "Evaluation Classifier: 100% 156/156 [00:03<00:00, 41.93it/s, acc1=84.054, acc2=92.939, loss=0.567]\n",
            "+-------------------------+\n",
            "train + Epsilon = 0.0\n",
            "+-------------------------+\n",
            "Iterative FGSM ( epsilone = 0.00000e+00 ): 100% 50000/50000 [04:24<00:00, 188.78it/s, acc=0.960]\n",
            "Accuracy: 0.960\n",
            "+-------------------------+\n",
            "test + Epsilon = 0.0\n",
            "+-------------------------+\n",
            "Iterative FGSM ( epsilone = 0.00000e+00 ): 100% 10000/10000 [00:50<00:00, 197.89it/s, acc=0.841]\n",
            "Accuracy: 0.841\n",
            "+-------------------------+\n",
            "train + Epsilon = 0.05\n",
            "+-------------------------+\n",
            "Iterative FGSM ( epsilone = 5.00000e-02 ): 100% 50000/50000 [12:57<00:00, 64.31it/s, acc=0.331]\n",
            "Accuracy: 0.331\n",
            "+-------------------------+\n",
            "test + Epsilon = 0.05\n",
            "+-------------------------+\n",
            "Iterative FGSM ( epsilone = 5.00000e-02 ): 100% 10000/10000 [02:20<00:00, 71.16it/s, acc=0.302]\n",
            "Accuracy: 0.302\n",
            "+-------------------------+\n",
            "train + Epsilon = 0.1\n",
            "+-------------------------+\n",
            "Iterative FGSM ( epsilone = 1.00000e-01 ): 100% 50000/50000 [12:45<00:00, 65.30it/s, acc=0.226]\n",
            "Accuracy: 0.226\n",
            "+-------------------------+\n",
            "test + Epsilon = 0.1\n",
            "+-------------------------+\n",
            "Iterative FGSM ( epsilone = 1.00000e-01 ): 100% 10000/10000 [02:20<00:00, 71.21it/s, acc=0.209]\n",
            "Accuracy: 0.209\n",
            "+-------------------------+\n",
            "train + Epsilon = 0.15000000000000002\n",
            "+-------------------------+\n",
            "Iterative FGSM ( epsilone = 1.50000e-01 ): 100% 50000/50000 [12:43<00:00, 65.45it/s, acc=0.172]\n",
            "Accuracy: 0.172\n",
            "+-------------------------+\n",
            "test + Epsilon = 0.15000000000000002\n",
            "+-------------------------+\n",
            "Iterative FGSM ( epsilone = 1.50000e-01 ): 100% 10000/10000 [02:20<00:00, 71.16it/s, acc=0.156]\n",
            "Accuracy: 0.156\n",
            "+-------------------------+\n",
            "train + Epsilon = 0.2\n",
            "+-------------------------+\n",
            "Iterative FGSM ( epsilone = 2.00000e-01 ): 100% 50000/50000 [12:42<00:00, 65.55it/s, acc=0.140]\n",
            "Accuracy: 0.140\n",
            "+-------------------------+\n",
            "test + Epsilon = 0.2\n",
            "+-------------------------+\n",
            "Iterative FGSM ( epsilone = 2.00000e-01 ): 100% 10000/10000 [02:20<00:00, 71.29it/s, acc=0.130]\n",
            "Accuracy: 0.130\n"
          ]
        }
      ]
    },
    {
      "cell_type": "markdown",
      "source": [
        "#‌ Visualization"
      ],
      "metadata": {
        "id": "h_lKCKosTRSg"
      }
    },
    {
      "cell_type": "code",
      "source": [
        "pip install captum"
      ],
      "metadata": {
        "colab": {
          "base_uri": "https://localhost:8080/"
        },
        "id": "gxXOLkakTT4Q",
        "outputId": "31f9cb27-8146-482b-b9f3-43efb91e9aed"
      },
      "execution_count": null,
      "outputs": [
        {
          "output_type": "stream",
          "name": "stdout",
          "text": [
            "Looking in indexes: https://pypi.org/simple, https://us-python.pkg.dev/colab-wheels/public/simple/\n",
            "Collecting captum\n",
            "  Downloading captum-0.5.0-py3-none-any.whl (1.4 MB)\n",
            "\u001b[K     |████████████████████████████████| 1.4 MB 16.4 MB/s \n",
            "\u001b[?25hRequirement already satisfied: numpy in /usr/local/lib/python3.7/dist-packages (from captum) (1.21.6)\n",
            "Requirement already satisfied: matplotlib in /usr/local/lib/python3.7/dist-packages (from captum) (3.2.2)\n",
            "Requirement already satisfied: torch>=1.6 in /usr/local/lib/python3.7/dist-packages (from captum) (1.11.0+cu113)\n",
            "Requirement already satisfied: typing-extensions in /usr/local/lib/python3.7/dist-packages (from torch>=1.6->captum) (4.2.0)\n",
            "Requirement already satisfied: cycler>=0.10 in /usr/local/lib/python3.7/dist-packages (from matplotlib->captum) (0.11.0)\n",
            "Requirement already satisfied: python-dateutil>=2.1 in /usr/local/lib/python3.7/dist-packages (from matplotlib->captum) (2.8.2)\n",
            "Requirement already satisfied: pyparsing!=2.0.4,!=2.1.2,!=2.1.6,>=2.0.1 in /usr/local/lib/python3.7/dist-packages (from matplotlib->captum) (3.0.9)\n",
            "Requirement already satisfied: kiwisolver>=1.0.1 in /usr/local/lib/python3.7/dist-packages (from matplotlib->captum) (1.4.2)\n",
            "Requirement already satisfied: six>=1.5 in /usr/local/lib/python3.7/dist-packages (from python-dateutil>=2.1->matplotlib->captum) (1.15.0)\n",
            "Installing collected packages: captum\n",
            "Successfully installed captum-0.5.0\n"
          ]
        }
      ]
    },
    {
      "cell_type": "code",
      "source": [
        "# Captum\n",
        "from captum.attr import IntegratedGradients, DeepLift, GradientShap, Occlusion\n",
        "from captum.attr import visualization as viz"
      ],
      "metadata": {
        "id": "ehTlxBhwcFOm"
      },
      "execution_count": null,
      "outputs": []
    },
    {
      "cell_type": "markdown",
      "source": [
        "## GradientShap"
      ],
      "metadata": {
        "id": "OKKFsuc-UYTA"
      }
    },
    {
      "cell_type": "markdown",
      "source": [
        "### Load Model"
      ],
      "metadata": {
        "id": "rJZyjGY6UgKn"
      }
    },
    {
      "cell_type": "code",
      "source": [
        "%cd \"/content/drive/MyDrive/ADL-P04-02/\""
      ],
      "metadata": {
        "colab": {
          "base_uri": "https://localhost:8080/"
        },
        "id": "qR5j6wQEUmUw",
        "outputId": "7e9b2259-ad0f-4054-f027-6e0d2f2757d6"
      },
      "execution_count": null,
      "outputs": [
        {
          "output_type": "stream",
          "name": "stdout",
          "text": [
            "/content/drive/MyDrive/ADL-P04-02\n"
          ]
        }
      ]
    },
    {
      "cell_type": "code",
      "source": [
        "import os \n",
        "import numpy as np\n",
        "from PIL import Image\n",
        "from matplotlib import pyplot as plt \n",
        "from matplotlib.colors import LinearSegmentedColormap\n",
        "\n",
        "import torch\n",
        "import torch.nn.functional as F\n",
        "from torchvision import transforms \n",
        "from torchvision.utils import save_image\n",
        "\n",
        "import nets as nets \n",
        "import dataloaders as data"
      ],
      "metadata": {
        "id": "nGKF2Ut7cFRb"
      },
      "execution_count": null,
      "outputs": []
    },
    {
      "cell_type": "code",
      "source": [
        "def get_classes(index):\n",
        "    classes = (\"airplane\", \"automobile\", \"bird\", \"cat\", \"deer\", \"dog\", \"frog\", \"horse\", \"ship\", \"truck\")\n",
        "\n",
        "    return classes[index]\n",
        "\n",
        "def predict_label(img, model):\n",
        "    # Convert to a batch of 1\n",
        "    xb = img.unsqueeze(0)\n",
        "    # Get predictions from model\n",
        "    yb = model(xb)\n",
        "    # Pick index with highest probability\n",
        "    output = F.softmax(yb, dim=1)\n",
        "    prediction_score, pred = torch.topk(output, 1)\n",
        "\n",
        "    return pred.squeeze()\n",
        "\n",
        "def tensor_to_np(tensor_img):\n",
        "    img = np.transpose(tensor_img.cpu().numpy(), (1,2,0))\n",
        "    return img"
      ],
      "metadata": {
        "id": "fqM7e2fgWf-p"
      },
      "execution_count": null,
      "outputs": []
    },
    {
      "cell_type": "code",
      "source": [
        "ckpt_path = \"./pretrained_models\"\n",
        "\n",
        "model_type = \"vgg11\"\n",
        "model_dropout = 0.2\n",
        "teacher_type = \"vgg19\"\n",
        "\n",
        "\n",
        "ckpt_name = f\"pretrained{model_type}_{teacher_type}_final.ckpt\"\n",
        "\n",
        "model = nets.MyVGG(\n",
        "  vgg_type=model_type,\n",
        "  num_classes=10,\n",
        "  pretrained=True,\n",
        "  dropout=model_dropout,\n",
        "  freeze_backbone=False\n",
        ")\n",
        "\n",
        "model, _ = nets.load(\n",
        "    os.path.join(ckpt_path, ckpt_name),\n",
        "    model = model, \n",
        "    optimizer = None\n",
        ")\n",
        "\n",
        "model = model.eval()"
      ],
      "metadata": {
        "id": "SxoOj_4qUqD6"
      },
      "execution_count": null,
      "outputs": []
    },
    {
      "cell_type": "code",
      "source": [
        "sample_index = 114\n",
        "\n",
        "train_data_path = \"/content/datasets/cifar10\"\n",
        "mean, std = (0.485, 0.456, 0.406), (0.228, 0.224, 0.225)\n",
        "\n",
        "train_dataset = data.Cifar10Classification(\n",
        "    data_path=train_data_path,\n",
        "    data_mode=\"train\",\n",
        "    data_download=True,\n",
        "    input_normalization=True,\n",
        "    mean=mean,\n",
        "    std=std\n",
        ")\n",
        "\n",
        "train_data, train_label = train_dataset[sample_index]\n",
        "\n",
        "pred_ix = predict_label(train_data, model)\n",
        "# train_data = train_data.unsqueeze(0)\n",
        "\n",
        "save_image(train_data, f\"./visualization/original_{model_type}_{teacher_type}.png\")\n",
        "\n",
        "plt.imshow(tensor_to_np(train_data))\n",
        "\n",
        "train_data = train_data.unsqueeze(0)\n",
        "train_label = torch.tensor(train_label)\n",
        "\n",
        "train_data.shape, train_label.shape"
      ],
      "metadata": {
        "colab": {
          "base_uri": "https://localhost:8080/",
          "height": 319
        },
        "id": "sySgfscKV1TR",
        "outputId": "909a2f6f-e21d-4f08-b6a7-4c58228f99cc"
      },
      "execution_count": null,
      "outputs": [
        {
          "output_type": "stream",
          "name": "stdout",
          "text": [
            "Files already downloaded and verified\n"
          ]
        },
        {
          "output_type": "stream",
          "name": "stderr",
          "text": [
            "Clipping input data to the valid range for imshow with RGB data ([0..1] for floats or [0..255] for integers).\n"
          ]
        },
        {
          "output_type": "execute_result",
          "data": {
            "text/plain": [
              "(torch.Size([1, 3, 32, 32]), torch.Size([]))"
            ]
          },
          "metadata": {},
          "execution_count": 149
        },
        {
          "output_type": "display_data",
          "data": {
            "text/plain": [
              "<Figure size 432x288 with 1 Axes>"
            ],
            "image/png": "[encoded data removed]"
          },
          "metadata": {
            "needs_background": "light"
          }
        }
      ]
    },
    {
      "cell_type": "markdown",
      "source": [
        "### IntegratedGradients\n"
      ],
      "metadata": {
        "id": "mHYnB7KChH4Y"
      }
    },
    {
      "cell_type": "code",
      "source": [
        "visualization_path = \"./visualization/\""
      ],
      "metadata": {
        "id": "OyEWAPDUhKxd"
      },
      "execution_count": null,
      "outputs": []
    },
    {
      "cell_type": "code",
      "source": [
        "default_cmap = LinearSegmentedColormap.from_list('custom blue', \n",
        "                                                 [(0, '#ffffff'),\n",
        "                                                  (0.25, '#000000'),\n",
        "                                                  (1, '#000000')], N=256)\n",
        "\n",
        "integrated_gradients = IntegratedGradients(model)\n",
        "attributions_ig = integrated_gradients.attribute(train_data, target=pred_ix, n_steps=5)\n",
        "\n",
        "fig, axs = viz.visualize_image_attr_multiple(np.transpose(attributions_ig.squeeze().cpu().detach().numpy(), (1,2,0)),\n",
        "                             np.transpose(train_data.squeeze().cpu().detach().numpy(), (1,2,0)),\n",
        "                             methods=[\"original_image\", \"heat_map\"],\n",
        "                             cmap=default_cmap,\n",
        "                             show_colorbar=True,\n",
        "                             signs=[\"all\", \"positive\"],\n",
        "                             outlier_perc=1)\n",
        "\n",
        "fig.savefig(os.path.join(visualization_path,f\"integrated_gradients_{model_type}_{teacher_type}.png\"))"
      ],
      "metadata": {
        "colab": {
          "base_uri": "https://localhost:8080/",
          "height": 350
        },
        "id": "XR_Ub3uKhGdH",
        "outputId": "762d0bc0-b806-4a64-f868-66d271ab1fa3"
      },
      "execution_count": null,
      "outputs": [
        {
          "output_type": "stream",
          "name": "stderr",
          "text": [
            "Clipping input data to the valid range for imshow with RGB data ([0..1] for floats or [0..255] for integers).\n"
          ]
        },
        {
          "output_type": "display_data",
          "data": {
            "text/plain": [
              "<Figure size 576x432 with 4 Axes>"
            ],
            "image/png": "[encoded data removed]"
          },
          "metadata": {
            "needs_background": "light"
          }
        }
      ]
    },
    {
      "cell_type": "markdown",
      "source": [
        "### GradientShap"
      ],
      "metadata": {
        "id": "ayvT07x3hsTn"
      }
    },
    {
      "cell_type": "code",
      "source": [
        "gradient_shap = GradientShap(model)\n",
        "\n",
        "# Defining baseline distribution of images\n",
        "rand_img_dist = torch.cat([train_data * 0, train_data * 1])\n",
        "\n",
        "default_cmap = LinearSegmentedColormap.from_list('custom blue', \n",
        "                                                 [(0, '#ffffff'),\n",
        "                                                  (0.25, '#000000'),\n",
        "                                                  (1, '#000000')], N=256)\n",
        "\n",
        "attributions_gs = gradient_shap.attribute(train_data,\n",
        "                                          baselines=rand_img_dist,\n",
        "                                          target=train_label)\n",
        "\n",
        "fig, axs = viz.visualize_image_attr_multiple(np.transpose(attributions_gs.squeeze().cpu().detach().numpy(), (1,2,0)),\n",
        "                                      np.transpose(train_data.squeeze().cpu().detach().numpy(), (1,2,0)),\n",
        "                                      [\"original_image\", \"heat_map\"],\n",
        "                                      [\"all\", \"absolute_value\"],\n",
        "                                      cmap=default_cmap,\n",
        "                                      show_colorbar=True)\n",
        "\n",
        "fig.savefig(os.path.join(visualization_path,f\"gradient_shap_{model_type}_{teacher_type}.png\"))"
      ],
      "metadata": {
        "id": "1Jb9291y9jU_",
        "colab": {
          "base_uri": "https://localhost:8080/",
          "height": 350
        },
        "outputId": "c6647af9-75e2-4d47-c455-8d6db5ed4318"
      },
      "execution_count": null,
      "outputs": [
        {
          "output_type": "stream",
          "name": "stderr",
          "text": [
            "Clipping input data to the valid range for imshow with RGB data ([0..1] for floats or [0..255] for integers).\n"
          ]
        },
        {
          "output_type": "display_data",
          "data": {
            "text/plain": [
              "<Figure size 576x432 with 4 Axes>"
            ],
            "image/png": "[encoded data removed]"
          },
          "metadata": {
            "needs_background": "light"
          }
        }
      ]
    },
    {
      "cell_type": "code",
      "source": [],
      "metadata": {
        "id": "JoMogQTojOYy"
      },
      "execution_count": null,
      "outputs": []
    }
  ]
}