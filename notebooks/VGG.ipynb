{
 "cells": [
  {
   "cell_type": "code",
   "execution_count": 2,
   "id": "8078078e",
   "metadata": {},
   "outputs": [],
   "source": [
    "from torchvision.models import (vgg19_bn, vgg11_bn)"
   ]
  },
  {
   "cell_type": "markdown",
   "id": "089e00f7",
   "metadata": {},
   "source": [
    "# VGG Instantiation"
   ]
  },
  {
   "cell_type": "markdown",
   "id": "4f9f8a42",
   "metadata": {},
   "source": [
    "## `VGG-19` + `Batch Normalization`"
   ]
  },
  {
   "cell_type": "code",
   "execution_count": 4,
   "id": "a231f424",
   "metadata": {},
   "outputs": [],
   "source": [
    "vgg19_bn?"
   ]
  },
  {
   "cell_type": "code",
   "execution_count": 5,
   "id": "3976ce37",
   "metadata": {},
   "outputs": [
    {
     "name": "stderr",
     "output_type": "stream",
     "text": [
      "Downloading: \"https://download.pytorch.org/models/vgg19_bn-c79401a0.pth\" to /Users/user/.cache/torch/hub/checkpoints/vgg19_bn-c79401a0.pth\n",
      "100%|██████████| 548M/548M [04:18<00:00, 2.22MB/s] \n"
     ]
    }
   ],
   "source": [
    "vgg19 = vgg19_bn(pretrained=True, progress=True)"
   ]
  },
  {
   "cell_type": "markdown",
   "id": "dbbc7314",
   "metadata": {},
   "source": [
    "## `VGG-11` + `Batch Normalization`"
   ]
  },
  {
   "cell_type": "code",
   "execution_count": 7,
   "id": "9112eea8",
   "metadata": {},
   "outputs": [
    {
     "name": "stderr",
     "output_type": "stream",
     "text": [
      "Downloading: \"https://download.pytorch.org/models/vgg11_bn-6002323d.pth\" to /Users/user/.cache/torch/hub/checkpoints/vgg11_bn-6002323d.pth\n",
      "100%|██████████| 507M/507M [03:58<00:00, 2.23MB/s] \n"
     ]
    }
   ],
   "source": [
    "vgg11 = vgg11_bn(pretrained=True, progress=True)"
   ]
  },
  {
   "cell_type": "code",
   "execution_count": 12,
   "id": "1c962c77",
   "metadata": {},
   "outputs": [
    {
     "data": {
      "text/plain": [
       "['banana', 'cherry', 'apple']"
      ]
     },
     "execution_count": 12,
     "metadata": {},
     "output_type": "execute_result"
    }
   ],
   "source": [
    "import random\n",
    "\n",
    "mylist = [\"apple\", \"banana\", \"cherry\"]\n",
    "random.shuffle(mylist)\n",
    "mylist"
   ]
  },
  {
   "cell_type": "code",
   "execution_count": 24,
   "id": "d23da3ba",
   "metadata": {},
   "outputs": [],
   "source": [
    "class A:\n",
    "    def __init__(self, a, b):\n",
    "        self.a = a \n",
    "        self.b = b\n",
    "        \n",
    "    def copy(self):\n",
    "        return A(a=self.a, b=self.b)\n",
    "    \n",
    "    def __str__(self):\n",
    "        return (f\"a: {self.a}, b: {self.b}\")"
   ]
  },
  {
   "cell_type": "code",
   "execution_count": 25,
   "id": "40f4bcc9",
   "metadata": {},
   "outputs": [
    {
     "name": "stdout",
     "output_type": "stream",
     "text": [
      "a: 1, b: 2\n"
     ]
    }
   ],
   "source": [
    "x = A(1,2)\n",
    "print(x)"
   ]
  },
  {
   "cell_type": "code",
   "execution_count": 26,
   "id": "d0f5ddbd",
   "metadata": {},
   "outputs": [
    {
     "name": "stdout",
     "output_type": "stream",
     "text": [
      "a: 1, b: 2\n"
     ]
    }
   ],
   "source": [
    "y = x.copy()\n",
    "\n",
    "print(y)"
   ]
  },
  {
   "cell_type": "code",
   "execution_count": 27,
   "id": "b9dd9ac5",
   "metadata": {},
   "outputs": [
    {
     "name": "stdout",
     "output_type": "stream",
     "text": [
      "False\n"
     ]
    }
   ],
   "source": [
    "print(x==y)"
   ]
  },
  {
   "cell_type": "code",
   "execution_count": 30,
   "id": "f511f57d",
   "metadata": {},
   "outputs": [
    {
     "data": {
      "text/plain": [
       "False"
      ]
     },
     "execution_count": 30,
     "metadata": {},
     "output_type": "execute_result"
    }
   ],
   "source": [
    "isinstance(2, A)"
   ]
  },
  {
   "cell_type": "code",
   "execution_count": 38,
   "id": "00ff006b",
   "metadata": {},
   "outputs": [
    {
     "data": {
      "text/plain": [
       "'a_none_final.ckpt'"
      ]
     },
     "execution_count": 38,
     "metadata": {},
     "output_type": "execute_result"
    }
   ],
   "source": [
    "x = \"none\"\n",
    "\n",
    "s = f\"a_{x}_final.ckpt\"\n",
    "s"
   ]
  },
  {
   "cell_type": "code",
   "execution_count": 39,
   "id": "93980988",
   "metadata": {},
   "outputs": [
    {
     "name": "stdout",
     "output_type": "stream",
     "text": [
      "none\n"
     ]
    }
   ],
   "source": [
    "if str(x).lower() == \"none\":\n",
    "    print(x)"
   ]
  },
  {
   "cell_type": "code",
   "execution_count": null,
   "id": "14ed3938",
   "metadata": {},
   "outputs": [],
   "source": []
  }
 ],
 "metadata": {
  "kernelspec": {
   "display_name": "Python 3",
   "language": "python",
   "name": "python3"
  },
  "language_info": {
   "codemirror_mode": {
    "name": "ipython",
    "version": 3
   },
   "file_extension": ".py",
   "mimetype": "text/x-python",
   "name": "python",
   "nbconvert_exporter": "python",
   "pygments_lexer": "ipython3",
   "version": "3.7.13"
  }
 },
 "nbformat": 4,
 "nbformat_minor": 5
}
